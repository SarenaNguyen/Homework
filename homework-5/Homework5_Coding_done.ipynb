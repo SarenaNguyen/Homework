{
  "nbformat": 4,
  "nbformat_minor": 0,
  "metadata": {
    "kernelspec": {
      "display_name": "Python 3",
      "language": "python",
      "name": "python3"
    },
    "language_info": {
      "codemirror_mode": {
        "name": "ipython",
        "version": 3
      },
      "file_extension": ".py",
      "mimetype": "text/x-python",
      "name": "python",
      "nbconvert_exporter": "python",
      "pygments_lexer": "ipython3",
      "version": "3.8.5"
    },
    "colab": {
      "name": "Homework5_Coding_done.ipynb",
      "provenance": [],
      "collapsed_sections": []
    }
  },
  "cells": [
    {
      "cell_type": "markdown",
      "metadata": {
        "id": "AkaROM3v9c9P"
      },
      "source": [
        "# Homework 5 Coding: Transport Modeling\n",
        "\n",
        "For this coding assignment, you will write functions to calculate molar flux (and sometimes current density) for several given applications.  I will do much of the coding for you, at first, but then let you handle more and more of it, as we move along.\n",
        "\n",
        "## Part I: Gas-phase diffusion in a PEMFC cathode.\n",
        "\n",
        "For this scenario, we will model gas-phase transport in the gas diffusion layer (GDL) of a PEMFC cathode.\n",
        "\n",
        "The cathode is 100 microns thick, with a porosity (gas-phase volume fraction) of 57%, with the tortuosity factor modeled using a Bruggeman coefficient of $n = -0.5$.\n",
        "\n",
        "Use the Cozeny-Karman relationship to estimate the cathode GDL permeability, with a carbon particle diameter of 0.5 microns, and an average pore radius of 2 microns.\n",
        "\n",
        "We will simulate transport at 60 C, where the dynamic viscosity of moist air is $\\mu = 2.08\\times 10^{-5}\\,\\frac{\\rm kg}{\\rm m-s}$.  The conditions at the two nodes are:\n",
        "\n",
        "1. Node 1: in the gas flow channel\n",
        "- Pressure = 1 atmosphere\n",
        "- $X_{\\rm O_2} = 0.21$\n",
        "- $X_{\\rm N_2} = 0.79$\n",
        "- $X_{\\rm H_2O} = 0.0$\n",
        "\n",
        "2. Node 2: in the catalyst layer, where O$_2$ is consumed and H$_2$O is produced:\n",
        "- Pressure = 100 kPa\n",
        "- $X_{\\rm O_2} = 0.16$\n",
        "- $X_{\\rm N_2} = 0.80$\n",
        "- $X_{\\rm H_2O} = 0.04$\n",
        "\n",
        "The gas-phase species diffusion coefficients are:\n",
        "- O$_2$: $2.438\\times 10^{-5}\\,\\frac{\\rm m^2}{\\rm s}$\n",
        "- N$_2$: $2.798\\times 10^{-5}\\,\\frac{\\rm m^2}{\\rm s}$\n",
        "- H$_2$O: $1.9\\times 10^{-5}\\,\\frac{\\rm m^2}{\\rm s}$"
      ]
    },
    {
      "cell_type": "code",
      "metadata": {
        "id": "A8wJ0qum9c9R"
      },
      "source": [
        "import numpy as np\n",
        "dY = 100e-6 # m\n",
        "eps_g = 0.57\n",
        "n_Brugg = -0.5\n",
        "\n",
        "d_part = 0.5e-6\n",
        "r_p = 2e-6\n",
        "\n",
        "T = 333.15 # K\n",
        "P_1 = 101325 # Pa\n",
        "P_2 = 100000 # Pa\n",
        "\n",
        "R = 8.3145 # J/mol-K\n",
        "F = 96485  # C/mol equiv\n",
        "\n",
        "# Species order: O2, N2, H2O_v\n",
        "X_k_1 = np.array([0.21, 0.79, 0.0])\n",
        "X_k_2 = np.array([0.16, 0.80, 0.04])\n",
        "\n",
        "mu = 2.08e-5 #kg/m-s\n",
        "\n",
        "D_k = np.array([2.438e-5, 2.798e-5, 1.9e-5]) #m2/s"
      ],
      "execution_count": 1,
      "outputs": []
    },
    {
      "cell_type": "markdown",
      "metadata": {
        "id": "NaSc29Ci9c9S"
      },
      "source": [
        "### We are going to load all parameters into a series of Python dictionaries\n",
        "\n",
        "We will pass these dictionaries to our function.  The dictionaries just make it more efficient then having 12 different input variables."
      ]
    },
    {
      "cell_type": "code",
      "metadata": {
        "id": "7J2WEBr59c9T"
      },
      "source": [
        "# State variables for node 1:\n",
        "state1 = {'X_k':X_k_1, 'P':P_1, 'T':T}\n",
        "# State variables for node 2:\n",
        "state2 = {'X_k':X_k_2, 'P':P_2, 'T':T}\n",
        "\n",
        "# Geometric and microstructure parameters:\n",
        "geom = {'eps_g':eps_g, 'n_Brugg':n_Brugg, 'd_part':d_part, 'dY':dY}\n",
        "# Gas properties\n",
        "gas_props = {'D_k':D_k, 'mu':mu}"
      ],
      "execution_count": 2,
      "outputs": []
    },
    {
      "cell_type": "markdown",
      "metadata": {
        "id": "8ywkoO2C9c9T"
      },
      "source": [
        "### Example for using values stored in dictionaries:"
      ]
    },
    {
      "cell_type": "code",
      "metadata": {
        "colab": {
          "base_uri": "https://localhost:8080/"
        },
        "id": "yrg8zQD89c9T",
        "outputId": "b2018342-26af-4acf-b71b-4b6a980e2e28"
      },
      "source": [
        "# To access a dictionary value:\n",
        "print(gas_props['mu'])\n",
        "print(state1['X_k'])\n",
        "X_sum = sum(state1['X_k'])\n",
        "print('The mole fractions sum to',X_sum)"
      ],
      "execution_count": 3,
      "outputs": [
        {
          "output_type": "stream",
          "text": [
            "2.08e-05\n",
            "[0.21 0.79 0.  ]\n",
            "The mole fractions sum to 1.0\n"
          ],
          "name": "stdout"
        }
      ]
    },
    {
      "cell_type": "markdown",
      "metadata": {
        "id": "8hWxUcqU9c9T"
      },
      "source": [
        "## YOUR CODE GOES HERE:\n",
        "\n",
        "Create a function that calculates the species fluxes, given our input dictionaries.\n",
        "\n",
        "The function must return an array `N_k` that provides the species molar fluxes in mol/m$^2$-s. "
      ]
    },
    {
      "cell_type": "code",
      "metadata": {
        "id": "grDCiucv9c9U"
      },
      "source": [
        "def pemfc_gas_transport(state1, state2, geom, gas_props):\n",
        "    N_k = np.zeros_like(state1['X_k'])\n",
        "    \n",
        "    MW = 12.01\n",
        "    rho = 0.001\n",
        "    C_k_o = rho/MW\n",
        "    C_k = state1['X_k']*C_k_o\n",
        "    u_k = gas_props['D_k']/(R*T)\n",
        "    F_k = R*T*(1/state1['X_k'])*(state1['X_k']-state2['X_k'])/dY\n",
        "    N_k_diff = -C_k*u_k*F_k\n",
        "\n",
        "    K_g = (r_p**2)/8\n",
        "    N_k_conv = (K_g*(state2['P']-state1['P']))/mu\n",
        "    \n",
        "    N_k = N_k_diff + N_k_conv\n",
        "\n",
        "    return N_k\n",
        "    "
      ],
      "execution_count": 4,
      "outputs": []
    },
    {
      "cell_type": "markdown",
      "metadata": {
        "id": "_T0qp8hG9c9U"
      },
      "source": [
        "### Now calculate the fluxes between nodes 1 and 2 (you do not need to do anything; just run the cell)\n",
        "### Then check your answers against mine:"
      ]
    },
    {
      "cell_type": "code",
      "metadata": {
        "id": "g5LfM5Ny9c9U",
        "colab": {
          "base_uri": "https://localhost:8080/",
          "height": 369
        },
        "outputId": "ba600c3b-7b6a-4de9-e143-75bcf41244dd"
      },
      "source": [
        "N_k_calc = pemfc_gas_transport(state1, state2, geom, gas_props)\n",
        "\n",
        "from matplotlib import pyplot as plt\n",
        "width = 0.35\n",
        "N_k_check = np.array([0.19913, -0.007275, -0.11794]) #mol/m2/s\n",
        "\n",
        "fig, ax = plt.subplots()\n",
        "\n",
        "labels = ['O2', 'N2', 'H2O']\n",
        "x = np.arange(len(labels))\n",
        "\n",
        "ax.bar(x+width/2,N_k_check,width)\n",
        "ax.bar(x-width/2,N_k_calc,width)\n",
        "ax.legend(['DeCaluwe\\'s Answer','My Answer'],frameon=False)\n",
        "\n",
        "ax.set_xticks(x)\n",
        "ax.set_xticklabels(labels)\n",
        "\n",
        "ax.set_ylabel('Diffusion coefficient (m$^2$/s)',fontsize=14)\n",
        "ax.set_xlabel('Species',fontsize=14)"
      ],
      "execution_count": 5,
      "outputs": [
        {
          "output_type": "stream",
          "text": [
            "/usr/local/lib/python3.6/dist-packages/ipykernel_launcher.py:9: RuntimeWarning: divide by zero encountered in true_divide\n",
            "  if __name__ == '__main__':\n",
            "/usr/local/lib/python3.6/dist-packages/ipykernel_launcher.py:10: RuntimeWarning: invalid value encountered in multiply\n",
            "  # Remove the CWD from sys.path while we load stuff.\n"
          ],
          "name": "stderr"
        },
        {
          "output_type": "execute_result",
          "data": {
            "text/plain": [
              "Text(0.5, 0, 'Species')"
            ]
          },
          "metadata": {
            "tags": []
          },
          "execution_count": 5
        },
        {
          "output_type": "display_data",
          "data": {
            "image/png": "[encoded data removed]",
            "text/plain": [
              "<Figure size 432x288 with 1 Axes>"
            ]
          },
          "metadata": {
            "tags": [],
            "needs_background": "light"
          }
        }
      ]
    },
    {
      "cell_type": "markdown",
      "metadata": {
        "id": "LEetuclw9c9V"
      },
      "source": [
        "## Part II: Charged species transport in a liquid electrolyte:\n",
        "\n",
        "Next we will calculate molar fluxes for a liquid electrolyte in a battery anode.  These calculations will be for electro-diffusion only - there is no convection!\n",
        "\n",
        "The molar density of the electrolyte is assumed constant at 1100 moles per m$^3$\n",
        "\n",
        "The temperature is 45$^\\circ$C.\n",
        "\n",
        "The electrolyte is LiPF$_6$, dissolved in a generic \"solvent\" molecule, with the following conditions:\n",
        "\n",
        "1. Node 1:\n",
        "- $X_{\\rm Li^+} = 0.03$\n",
        "- $X_{\\rm PF^-_6} = 0.03$\n",
        "- $X_{\\rm Solvent} = 0.94$\n",
        "- Electric potential $\\phi_1 = 0.9$ V\n",
        "\n",
        "2. Node 2:\n",
        "- $X_{\\rm Li^+} = 0.06$\n",
        "- $X_{\\rm PF^-_6} = 0.06$\n",
        "- $X_{\\rm Solvent} = 0.88$\n",
        "- Electric potential $\\phi_2 = 0.5$ V\n",
        "\n",
        "The distance between the nodes is 30 microns, and the average diameter of the solid active material particles is 5 microns.  The anode porosity (electrolyte volume fraction) is 23%, and the tortuosity is characterized by a Bruggeman coefficient of -0.5."
      ]
    },
    {
      "cell_type": "code",
      "metadata": {
        "id": "vt8ff0dC9c9V"
      },
      "source": [
        "C_elyte = 1100 #mol/m3\n",
        "\n",
        "# Species order: Li+, PF6-, solvent\n",
        "X_k_1 = np.array([0.03, 0.03, 0.94])\n",
        "X_k_2 = np.array([0.06, 0.06, 0.88])\n",
        "\n",
        "z_k = np.array([1., -1., 0.])\n",
        "\n",
        "T = 318  #K\n",
        "\n",
        "dY = 30e-6\n",
        "\n",
        "D_k = np.array([1.52e-10, 0.25e-10, 1e-12])\n",
        "\n",
        "phi_1 = 0.9\n",
        "phi_2 = 0.5\n",
        "\n",
        "d_part = 5e-6\n",
        "F= 96485\n",
        "\n",
        "eps_elyte = 0.23\n",
        "n_brugg = -0.5"
      ],
      "execution_count": 6,
      "outputs": []
    },
    {
      "cell_type": "markdown",
      "metadata": {
        "id": "0EIzhGwf9c9V"
      },
      "source": [
        "## ENTER CODE HERE \n",
        "\n",
        "### to Create the Necessary Dictionaries. We will call the states just 's1' and 's2', this time:"
      ]
    },
    {
      "cell_type": "code",
      "metadata": {
        "id": "ifBPoQTR9c9V"
      },
      "source": [
        "s1 = { 'X_k': X_k_1, 'phi_1':phi_1, 'T':T }\n",
        "s2 = { 'X_k':X_k_2, 'phi_2':phi_2, 'T':T }\n",
        "\n",
        "geom = {'eps_elyte':eps_elyte, 'n_Brugg':n_Brugg, 'd_part':d_part, 'dY':dY }\n",
        "elyte_pars = {'D_k':D_k, 'C_elyte':C_elyte, 'z_k':z_k }"
      ],
      "execution_count": 7,
      "outputs": []
    },
    {
      "cell_type": "markdown",
      "metadata": {
        "id": "MeR7qwGq9c9V"
      },
      "source": [
        "## NOW CREATE YOUR FLUX-CALCULATING FUNCTION:"
      ]
    },
    {
      "cell_type": "code",
      "metadata": {
        "id": "exV9p2Bv9c9W"
      },
      "source": [
        "def electrolyte_transport(state1, state2, geom, liq_pars):\n",
        "    N_k = np.zeros_like(s1['X_k'])\n",
        "    \n",
        "    \n",
        "    T = 0.5*(s1['T']+s2['T'])\n",
        "    C_elyte = 1100\n",
        "    R = 8.3145 \n",
        "    u_k = elyte_pars['D_k']/(R*T)    \n",
        "\n",
        "    N_k_diff = elyte_pars['C_elyte']*u_k*R*s1['T']*(s1['X_k']-s2['X_k'])/dY   \n",
        "\n",
        "    N_k_mig = u_k*elyte_pars['C_elyte']*z_k*F*(s1['phi_1']-s2['phi_2'])\n",
        "    \n",
        "    N_k = N_k_diff + N_k_mig\n",
        "\n",
        "\n",
        "    return N_k"
      ],
      "execution_count": 8,
      "outputs": []
    },
    {
      "cell_type": "markdown",
      "metadata": {
        "id": "WxExm29Z9c9X"
      },
      "source": [
        "Now we loop over a range of Node 2 electric potentials.  We use the fluxes to calculate the current density:\n",
        "\\begin{equation}\n",
        "i = F\\sum_k z_kN_k\n",
        "\\end{equation}"
      ]
    },
    {
      "cell_type": "code",
      "metadata": {
        "id": "fjLJocpi9c9Y"
      },
      "source": [
        "dPhi = np.linspace(0,1.1,25)\n",
        "currents = np.zeros_like(dPhi)\n",
        "N_k = np.zeros((len(dPhi), len(z_k)))\n",
        "\n",
        "\n",
        "for j, phi in enumerate(dPhi):\n",
        "    s2['phi'] = phi\n",
        "    N_k[j,:] = electrolyte_transport(s1,s2, geom, elyte_pars)\n",
        "    currents[j] = np.dot(z_k,N_k[j,:])*F\n"
      ],
      "execution_count": 9,
      "outputs": []
    },
    {
      "cell_type": "markdown",
      "metadata": {
        "id": "P2zW0U6A9c9Z"
      },
      "source": [
        "## Plot the currents and check them against mine.\n",
        "(You do not need to enter anything)\n",
        "### For what potential is the current equal to zero?"
      ]
    },
    {
      "cell_type": "code",
      "metadata": {
        "id": "tO4XWj8t9c9Z",
        "colab": {
          "base_uri": "https://localhost:8080/",
          "height": 300
        },
        "outputId": "aa47fca2-f5e7-4df3-e0eb-f2e0adab18be"
      },
      "source": [
        "current_check = np.array([100.,  95.,  90.,  85.,  80.,  75.,  69.,\n",
        "                          64.,  59.,  54.,  49.,  43.,  38.,  33.,\n",
        "                          28.,  23.,  17.,  12.,   7.,   2.,  -3.,\n",
        "                          -9.,    -14., -19., -24.])\n",
        "\n",
        "plt.plot(dPhi, currents, 'k')\n",
        "plt.plot(dPhi, current_check, 'ro', markerfacecolor=None)\n",
        "plt.plot(dPhi, np.zeros_like(dPhi),'--',color='0.5')\n",
        "plt.xlabel('Electric potential difference (V)',fontsize=14)\n",
        "plt.ylabel('Current density (A/m$^2$)',fontsize=14)\n",
        "\n",
        "zero=np.interp(0, np.flip(currents), np.flip(dPhi))\n",
        "print('Zero current at dPhi = ',zero)\n"
      ],
      "execution_count": 10,
      "outputs": [
        {
          "output_type": "stream",
          "text": [
            "Zero current at dPhi =  0.0\n"
          ],
          "name": "stdout"
        },
        {
          "output_type": "display_data",
          "data": {
            "image/png": "[encoded data removed]",
            "text/plain": [
              "<Figure size 432x288 with 1 Axes>"
            ]
          },
          "metadata": {
            "tags": [],
            "needs_background": "light"
          }
        }
      ]
    },
    {
      "cell_type": "code",
      "metadata": {
        "id": "Xyvl1Jz49c9Z",
        "colab": {
          "base_uri": "https://localhost:8080/",
          "height": 300
        },
        "outputId": "836209f6-ce89-4870-8b26-aec208bf7c3f"
      },
      "source": [
        "\n",
        "plt.plot(dPhi, N_k[:,0],linewidth=2.5)\n",
        "plt.plot(dPhi, N_k[:,1],linewidth=2.5)\n",
        "\n",
        "plt.xlabel('Electric potential difference (V)',fontsize=14)\n",
        "plt.ylabel('Molar flux (mol/m$^2$-s)',fontsize=14)\n",
        "plt.legend(['Li$^+$','PF$_6^-$'],frameon=False,fontsize=14)\n",
        "plt.plot([zero,zero],[N_k[-1,0],N_k[0,0]],'--',color='0.5')\n",
        "plt.plot([0,1],[0,0],'--',color='0.5')"
      ],
      "execution_count": 11,
      "outputs": [
        {
          "output_type": "execute_result",
          "data": {
            "text/plain": [
              "[<matplotlib.lines.Line2D at 0x7f16f61d7c88>]"
            ]
          },
          "metadata": {
            "tags": []
          },
          "execution_count": 11
        },
        {
          "output_type": "display_data",
          "data": {
            "image/png": "[encoded data removed]",
            "text/plain": [
              "<Figure size 432x288 with 1 Axes>"
            ]
          },
          "metadata": {
            "tags": [],
            "needs_background": "light"
          }
        }
      ]
    },
    {
      "cell_type": "markdown",
      "metadata": {
        "id": "3LSz8ia69c9a"
      },
      "source": [
        "## Discuss the plot above in this Markdown block.  When is zero ionic current achieved?\n",
        ".It is achieved at approximately 0.9 V.\n",
        ". The relationship between current density and potential is a linear slope with a negative value. This information can be used to easily determine the current density at any operating potential.\n",
        ".\n",
        "(like, type it right here)\n",
        "\n",
        "\n",
        "\n"
      ]
    },
    {
      "cell_type": "markdown",
      "metadata": {
        "id": "vrnSmPdu9c9a"
      },
      "source": [
        "### Now predict current as a function of electrolyte volume fraction $\\varepsilon_{\\rm elyte}$\n",
        "\n",
        "(You do not need to type anything)"
      ]
    },
    {
      "cell_type": "code",
      "metadata": {
        "id": "yDBYOBbJ9c9a",
        "colab": {
          "base_uri": "https://localhost:8080/",
          "height": 300
        },
        "outputId": "60d3e455-59a2-43c8-ac19-839b2b865f91"
      },
      "source": [
        "eps_array = np.linspace(0.05,0.95,25)\n",
        "\n",
        "currents = np.zeros_like(eps_array)\n",
        "for j, eps in enumerate(eps_array):\n",
        "    geom['eps_elyte'] = eps\n",
        "    N_k = electrolyte_transport(s1, s2, geom, elyte_pars)\n",
        "    currents[j] = np.dot(elyte_pars['z_k'],N_k)*F\n",
        "    \n",
        "plt.plot(eps_array, currents,'b',linewidth=2.5)\n",
        "plt.xlabel('Electrolyte Volume Fraction', fontsize=14)\n",
        "plt.ylabel('Current Density (A/m$^2$)',fontsize=14)"
      ],
      "execution_count": 12,
      "outputs": [
        {
          "output_type": "execute_result",
          "data": {
            "text/plain": [
              "Text(0, 0.5, 'Current Density (A/m$^2$)')"
            ]
          },
          "metadata": {
            "tags": []
          },
          "execution_count": 12
        },
        {
          "output_type": "display_data",
          "data": {
            "image/png": "[encoded data removed]",
            "text/plain": [
              "<Figure size 432x288 with 1 Axes>"
            ]
          },
          "metadata": {
            "tags": [],
            "needs_background": "light"
          }
        }
      ]
    },
    {
      "cell_type": "markdown",
      "metadata": {
        "id": "9708gvZz9c9a"
      },
      "source": [
        "### Discuss the results.  If you were designing a high-performance anode, what $\\varepsilon_{\\rm elyte}$ value would you pick?  Why?\n",
        "\n",
        "(discuss it right here)\n",
        ". According to the graph above, the electrolyte volume fraction does not affect the current density. Would choose the value that is easiest to achieve in a laboratory setting."
      ]
    },
    {
      "cell_type": "markdown",
      "metadata": {
        "id": "LJ_etsXJ9c9a"
      },
      "source": [
        "## Part III. Charged defects in a proton-conducting ceramic:\n",
        "\n",
        "The protonic ceramic membrane in this section has a fixed crystal lattice that can be occupied by one of three species:\n",
        "\n",
        "- An oxygen atom, O$^\\times$ (this is considered the neutral species)\n",
        "- A vacancy,V$_{\\rm O}^{\\bullet\\bullet}$ which has a charge of +2, relative to the oxygen\n",
        "- An oxygen atom with a proton attached, OH$^\\bullet$\n",
        "\n",
        "The lattice site concentration is assumed fixed at 22,325 mol per m$^3$.\n",
        "\n",
        "The vacancy and proton are considered mobile, while the oxide is considered fixed.  We will simulate transport at 600$^\\circ$C, where the diffusion coefficients are:\n",
        "\n",
        "- $D_{\\rm V_{\\rm O}^{\\bullet\\bullet}} = 1.28\\times 10^{-12}\\,\\frac{\\rm m^2}{\\rm s}$\n",
        "- $D_{\\rm O^\\times} = 0.0\\,\\frac{\\rm m^2}{\\rm s}$\n",
        "- $D_{\\rm OH^\\bullet} = 7.46\\times 10^{-11}\\,\\frac{\\rm m^2}{\\rm s}$\n",
        "\n",
        "The membrane also has a small amount of electronic conductivity, $\\sigma_{\\rm el} = 0.001\\,\\frac{\\rm S}{\\rm m}$.\n",
        "\n",
        "We will simulate transport between two nodes, which are 20 microns apart.  The conditions are:\n",
        "\n",
        "1. Node 1:\n",
        "- $X_{\\rm V_{\\rm O}^{\\bullet\\bullet}} = 0.336$\n",
        "- $X_{\\rm O^\\times} = 0.627$\n",
        "- $X_{\\rm OH^\\bullet} = 0.037$\n",
        "- $\\phi_1 = 1.1$\n",
        "\n",
        "2. Node 2:\n",
        "- $X_{\\rm V_{\\rm O}^{\\bullet\\bullet}} = 0.018$\n",
        "- $X_{\\rm O^\\times} = 0.938$\n",
        "- $X_{\\rm OH^\\bullet} = 0.044$\n",
        "- $\\phi_2 = 0.0$\n",
        "\n",
        "## Enter the data, here:"
      ]
    },
    {
      "cell_type": "code",
      "metadata": {
        "id": "R-JMUnh59c9c"
      },
      "source": [
        "C_lattice = 22325 #mol/m3\n",
        "\n",
        "# Species order: Li+, PF6-, solvent\n",
        "X_k_1 = np.array([0.336, 0.627, 0.037])\n",
        "X_k_2 = np.array([0.018, 0.938, 0.044])\n",
        "\n",
        "\n",
        "T = 973  #K\n",
        "\n",
        "dY = 20e-6\n",
        "z_k = np.array([1., -1., 0.])\n",
        "\n",
        "D_k = np.array([1.28e-12, 0, 7.46e-11])\n",
        "\n",
        "phi_1 = 1.1\n",
        "phi_2 = 0\n",
        "\n",
        "d_part = 5e-6\n",
        "\n",
        "eps_elyte = 0.23\n",
        "sig_el = 0.001\n",
        "\n",
        "\n",
        "s1 = {'X_k': X_k_1, 'phi':phi_1, 'T':T }\n",
        "s2 = {'X_k':X_k_2, 'phi':phi_2, 'T':T }\n",
        "\n",
        "geom = {'eps_elyte':eps_elyte, 'n_Brugg':n_Brugg, 'd_part':d_part, 'dY':dY }\n",
        "ceramic_pars = {'D_k':D_k, 'C_lattice':C_lattice }"
      ],
      "execution_count": 13,
      "outputs": []
    },
    {
      "cell_type": "markdown",
      "metadata": {
        "id": "TBulUN049c9c"
      },
      "source": [
        "## CREATE YOUR TRANSPORT FUNCTION HERE.\n",
        "\n",
        "This function should return the fluxes, N_k, and the total current (ionic + electronic)."
      ]
    },
    {
      "cell_type": "code",
      "metadata": {
        "id": "nhAz7Gy79c9c"
      },
      "source": [
        "def protonic_transport(state1, state2, geom, ceramic_pars):\n",
        "    N_k = np.zeros_like(state1['X_k'])\n",
        "    \n",
        "    R = 8.3145 \n",
        "    u_k = ceramic_pars['D_k']/(R*T)    \n",
        "\n",
        "    N_k_diff = ceramic_pars['C_lattice']*u_k*R*T*(s1['X_k']-s2['X_k'])/dY   \n",
        "\n",
        "    N_k_mig = u_k*ceramic_pars['C_lattice']*z_k*F*(s1['phi']-s2['phi'])\n",
        "   # electric potential terms, two ions, mobility is z_k*-gradient of electropotential\n",
        "    \n",
        "    N_k = N_k_diff + N_k_mig\n",
        "\n",
        "    currents = sig_el*(s1['phi']-s2['phi'])   \n",
        "\n",
        "    currents = np.zeros_like(dPhi)\n",
        "    currents = np.dot(z_k,N_k[j,:])*F\n",
        "\n",
        "\n",
        "    \n",
        "    return N_k, currents"
      ],
      "execution_count": 14,
      "outputs": []
    },
    {
      "cell_type": "markdown",
      "metadata": {
        "id": "hxD9i7sY9c9c"
      },
      "source": [
        "## Here, we loop over a range of electric potential diffrerences between node 1 and node 2.\n",
        "\n",
        "You do not need to do anything; just run the cell.\n",
        "\n",
        "We will plot both the total current and the Faradaic efficiency, as a function of $\\Delta \\phi$.  \n",
        "\n",
        "The Faradaic efficiency $\\eta_{\\rm Far}$ refers to the fact that the electronic leakage current is \"undesired,\" for the protonic fuel cell.  We want all current to move ions across the membrane.  Therefore we find the efficiency as:\n",
        "\\begin{equation}\n",
        "    \\eta_{\\rm Far} = \\frac{i_{\\rm ion}}{i_{\\rm total}}\n",
        "\\end{equation}"
      ]
    },
    {
      "cell_type": "code",
      "metadata": {
        "id": "A-uk05_59c9c",
        "colab": {
          "base_uri": "https://localhost:8080/",
          "height": 354
        },
        "outputId": "c1e82392-80f8-4230-b436-b940abc9c78d"
      },
      "source": [
        "dPhi = np.linspace(0.0, 1.0, 100)\n",
        "eta_Far = np.zeros_like(dPhi)\n",
        "i_tot = np.zeros_like(dPhi)\n",
        "\n",
        "for j, deltaPhi in enumerate(dPhi):\n",
        "    s2['phi'] = s1['phi']-deltaPhi\n",
        "    N_k[j,:], i_tot[j] = protonic_transport(s1, s2, geom, ceramic_pars)\n",
        "    i_ion = np.dot(Nk,ceramic_pars['z_k'])*F\n",
        "    \n",
        "    eta_Far[j] = 100*i_ion/i_tot[j]\n",
        "    \n",
        "    \n",
        "# Plot the results:\n",
        "fig, ax = plt.subplots()\n",
        "plt.plot(dPhi, i_tot,color='b')\n",
        "\n",
        "# Create a 2nd y axis:\n",
        "ax2 = ax.twinx()\n",
        "ax2.plot(dPhi, eta_Far,'r')\n",
        "\n",
        "# Formatting:\n",
        "ax.set_xlabel('Electric Potential Difference ($\\phi_1 - \\phi_2$, V)', fontsize=14)\n",
        "\n",
        "ax.tick_params(axis='y',color='r',labelcolor='b',labelsize=12)\n",
        "ax.set_ylabel('Current density (A/m$^2$)',color='b',fontsize=14)\n",
        "ax.tick_params(axis='y',color='r',labelcolor='b',labelsize=12)\n",
        "\n",
        "ax2.set_ylabel('Faradaic Efficiency (%)',color='r',fontsize=14)\n",
        "ax2.tick_params(axis='y',color='r',labelcolor='r',labelsize=12)\n",
        "ax2.tick_params(axis='y',color='r',labelcolor='r',labelsize=12)\n",
        "ax2.set_ylim((99,100))"
      ],
      "execution_count": 15,
      "outputs": [
        {
          "output_type": "error",
          "ename": "IndexError",
          "evalue": "ignored",
          "traceback": [
            "\u001b[0;31m---------------------------------------------------------------------------\u001b[0m",
            "\u001b[0;31mIndexError\u001b[0m                                Traceback (most recent call last)",
            "\u001b[0;32m<ipython-input-15-ab02412e8f2a>\u001b[0m in \u001b[0;36m<module>\u001b[0;34m()\u001b[0m\n\u001b[1;32m      5\u001b[0m \u001b[0;32mfor\u001b[0m \u001b[0mj\u001b[0m\u001b[0;34m,\u001b[0m \u001b[0mdeltaPhi\u001b[0m \u001b[0;32min\u001b[0m \u001b[0menumerate\u001b[0m\u001b[0;34m(\u001b[0m\u001b[0mdPhi\u001b[0m\u001b[0;34m)\u001b[0m\u001b[0;34m:\u001b[0m\u001b[0;34m\u001b[0m\u001b[0;34m\u001b[0m\u001b[0m\n\u001b[1;32m      6\u001b[0m     \u001b[0ms2\u001b[0m\u001b[0;34m[\u001b[0m\u001b[0;34m'phi'\u001b[0m\u001b[0;34m]\u001b[0m \u001b[0;34m=\u001b[0m \u001b[0ms1\u001b[0m\u001b[0;34m[\u001b[0m\u001b[0;34m'phi'\u001b[0m\u001b[0;34m]\u001b[0m\u001b[0;34m-\u001b[0m\u001b[0mdeltaPhi\u001b[0m\u001b[0;34m\u001b[0m\u001b[0;34m\u001b[0m\u001b[0m\n\u001b[0;32m----> 7\u001b[0;31m     \u001b[0mN_k\u001b[0m\u001b[0;34m[\u001b[0m\u001b[0mj\u001b[0m\u001b[0;34m,\u001b[0m\u001b[0;34m:\u001b[0m\u001b[0;34m]\u001b[0m\u001b[0;34m,\u001b[0m \u001b[0mi_tot\u001b[0m\u001b[0;34m[\u001b[0m\u001b[0mj\u001b[0m\u001b[0;34m]\u001b[0m \u001b[0;34m=\u001b[0m \u001b[0mprotonic_transport\u001b[0m\u001b[0;34m(\u001b[0m\u001b[0ms1\u001b[0m\u001b[0;34m,\u001b[0m \u001b[0ms2\u001b[0m\u001b[0;34m,\u001b[0m \u001b[0mgeom\u001b[0m\u001b[0;34m,\u001b[0m \u001b[0mceramic_pars\u001b[0m\u001b[0;34m)\u001b[0m\u001b[0;34m\u001b[0m\u001b[0;34m\u001b[0m\u001b[0m\n\u001b[0m\u001b[1;32m      8\u001b[0m     \u001b[0mi_ion\u001b[0m \u001b[0;34m=\u001b[0m \u001b[0mnp\u001b[0m\u001b[0;34m.\u001b[0m\u001b[0mdot\u001b[0m\u001b[0;34m(\u001b[0m\u001b[0mNk\u001b[0m\u001b[0;34m,\u001b[0m\u001b[0mceramic_pars\u001b[0m\u001b[0;34m[\u001b[0m\u001b[0;34m'z_k'\u001b[0m\u001b[0;34m]\u001b[0m\u001b[0;34m)\u001b[0m\u001b[0;34m*\u001b[0m\u001b[0mF\u001b[0m\u001b[0;34m\u001b[0m\u001b[0;34m\u001b[0m\u001b[0m\n\u001b[1;32m      9\u001b[0m \u001b[0;34m\u001b[0m\u001b[0m\n",
            "\u001b[0;32m<ipython-input-14-c589b1802597>\u001b[0m in \u001b[0;36mprotonic_transport\u001b[0;34m(state1, state2, geom, ceramic_pars)\u001b[0m\n\u001b[1;32m     15\u001b[0m \u001b[0;34m\u001b[0m\u001b[0m\n\u001b[1;32m     16\u001b[0m     \u001b[0mcurrents\u001b[0m \u001b[0;34m=\u001b[0m \u001b[0mnp\u001b[0m\u001b[0;34m.\u001b[0m\u001b[0mzeros_like\u001b[0m\u001b[0;34m(\u001b[0m\u001b[0mdPhi\u001b[0m\u001b[0;34m)\u001b[0m\u001b[0;34m\u001b[0m\u001b[0;34m\u001b[0m\u001b[0m\n\u001b[0;32m---> 17\u001b[0;31m     \u001b[0mcurrents\u001b[0m \u001b[0;34m=\u001b[0m \u001b[0mnp\u001b[0m\u001b[0;34m.\u001b[0m\u001b[0mdot\u001b[0m\u001b[0;34m(\u001b[0m\u001b[0mz_k\u001b[0m\u001b[0;34m,\u001b[0m\u001b[0mN_k\u001b[0m\u001b[0;34m[\u001b[0m\u001b[0mj\u001b[0m\u001b[0;34m,\u001b[0m\u001b[0;34m:\u001b[0m\u001b[0;34m]\u001b[0m\u001b[0;34m)\u001b[0m\u001b[0;34m*\u001b[0m\u001b[0mF\u001b[0m\u001b[0;34m\u001b[0m\u001b[0;34m\u001b[0m\u001b[0m\n\u001b[0m\u001b[1;32m     18\u001b[0m \u001b[0;34m\u001b[0m\u001b[0m\n\u001b[1;32m     19\u001b[0m \u001b[0;34m\u001b[0m\u001b[0m\n",
            "\u001b[0;31mIndexError\u001b[0m: too many indices for array"
          ]
        }
      ]
    },
    {
      "cell_type": "markdown",
      "metadata": {
        "id": "tAOed3AP9c9d"
      },
      "source": [
        "## In this markdown cell, discuss the plot.  What explains the trends?\n",
        "\n",
        "To check your answers, your total current should go from roughly zero at $\\Delta\\phi = 0$, to nearly 6000 A/m$^2$ at $\\Delta\\phi = 1.0.$ Over the same range, the Faradaic efficiency should go from 100% to roughly 99.1%.\n",
        "\n",
        "(discussion goes here)\n",
        ". When the migration flux is put in terms of ionic conductivity, there are two terms. When phi is increased, it creates a larger term that is subtracted from the first, decreasing the flux value. When the flux is decreased, the current density decreases in turn.\n",
        "\n",
        "i = F*z_k*N_k\n",
        "\n",
        "N_k=-u_k*C_k*RT*gradient(lna_k)-(sigma*t_k)/(z_k*F)*(gradient(phi))"
      ]
    },
    {
      "cell_type": "markdown",
      "metadata": {
        "id": "6VqCuiG-9c9d"
      },
      "source": [
        "### Now loop over a smaller range of potentials, to see where we get a net current of zero.\n",
        "\n",
        "(you do not need to type anything; just run the cell)."
      ]
    },
    {
      "cell_type": "code",
      "metadata": {
        "id": "rNmNG3_F9c9d"
      },
      "source": [
        "dPhi = np.linspace(-0.01, 0.01, 20)\n",
        "N_k = np.zeros((len(dPhi),len(state1['X_k'])))\n",
        "i_tot = np.zeros_like(dPhi)\n",
        "\n",
        "for j, deltaPhi in enumerate(dPhi):\n",
        "    state2['phi'] = state1['phi']-deltaPhi\n",
        "    N_k[j,:], i_tot[j] = protonic_transport(s1, s2, geom, ceramic_pars)\n",
        "\n",
        "fig, ax = plt.subplots()\n",
        "plt.plot(1000*dPhi, i_tot,color='b')\n",
        "\n",
        "zero = 1000*np.interp(0,i_tot,dPhi)\n",
        "plt.plot([zero,zero],[i_tot[0],i_tot[-1]],'--',color='0.5')\n",
        "\n",
        "ax.set_ylabel('Current density (A/m$^2$)',color='b',fontsize=14)\n",
        "ax.tick_params(axis='y',color='k',labelcolor='b',labelsize=12)\n",
        "ax.tick_params(axis='y',color='k',labelcolor='b',labelsize=12)\n",
        "\n",
        "ax.tick_params(axis='x',color='k',labelcolor='k',labelsize=12)\n",
        "ax.set_xlabel('Electric Potential Difference ($\\phi_1 - \\phi_2$, mV)', fontsize=14)\n",
        "# ax.set_xlim((-0.01,0.01))\n",
        "\n",
        "ax2 = ax.twinx()\n",
        "ax2.plot(1000*dPhi, N_k[:,0],'r.--')\n",
        "ax2.plot(1000*dPhi, N_k[:,2],color='r')\n",
        "\n",
        "ax2.set_ylabel('Species Flux (mol/m$^2$-s)',color='r',fontsize=14)\n",
        "ax2.tick_params(axis='y',color='r',labelcolor='r',labelsize=12)\n",
        "\n",
        "ax2.legend(['Vacancy','Proton'],fontsize=14,frameon=False)"
      ],
      "execution_count": null,
      "outputs": []
    },
    {
      "cell_type": "markdown",
      "metadata": {
        "scrolled": true,
        "id": "roEVlZHV9c9d"
      },
      "source": [
        "### Discuss the result.  Is the 'zero current' condition the same as for the battery anode?  \n",
        "\n",
        "What about your model equations explains the trends?"
      ]
    },
    {
      "cell_type": "code",
      "metadata": {
        "id": "9ZCQ45GO9c9d"
      },
      "source": [
        "#Yes. If the values for phi are the same or reversed, then it will allow for this condition. The variables for the flux should remain the same."
      ],
      "execution_count": null,
      "outputs": []
    }
  ]
}